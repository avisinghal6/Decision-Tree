{
  "cells": [
    {
      "cell_type": "markdown",
      "metadata": {
        "id": "view-in-github",
        "colab_type": "text"
      },
      "source": [
        "<a href=\"https://colab.research.google.com/github/avisinghal6/Decision-Tree/blob/main/DecisionTree.ipynb\" target=\"_parent\"><img src=\"https://colab.research.google.com/assets/colab-badge.svg\" alt=\"Open In Colab\"/></a>"
      ]
    },
    {
      "cell_type": "code",
      "execution_count": null,
      "id": "fef1d66b",
      "metadata": {
        "id": "fef1d66b"
      },
      "outputs": [],
      "source": [
        "import numpy as np\n",
        "import pandas as pd\n",
        "import matplotlib.pyplot as plt\n",
        "import seaborn as sns\n",
        "import random\n",
        "from pprint import pprint\n",
        "from decision_tree_functions import *\n",
        "from helper_functions import *"
      ]
    },
    {
      "cell_type": "code",
      "execution_count": null,
      "id": "fd2526b4",
      "metadata": {
        "id": "fd2526b4"
      },
      "outputs": [],
      "source": [
        "%matplotlib inline\n",
        "sns.set_style(\"darkgrid\")"
      ]
    },
    {
      "cell_type": "code",
      "execution_count": null,
      "id": "4ccc8d37",
      "metadata": {
        "id": "4ccc8d37"
      },
      "outputs": [],
      "source": [
        "# Section 1: Train Decision Train on Iris Data\n",
        "\n",
        "df = pd.read_csv(\"Iris.csv\")\n",
        "df = df.drop(\"Id\", axis=1)\n",
        "df = df.rename(columns={\"species\": \"label\"})"
      ]
    },
    {
      "cell_type": "code",
      "execution_count": null,
      "id": "60fdf9e6",
      "metadata": {
        "colab": {
          "base_uri": "https://localhost:8080/",
          "height": 206
        },
        "id": "60fdf9e6",
        "outputId": "dd7cd0f4-aa43-4fa2-e495-144983645ca4"
      },
      "outputs": [
        {
          "output_type": "execute_result",
          "data": {
            "text/plain": [
              "   sepal_length  sepal_width  petal_length  petal_width        label\n",
              "0           5.1          3.5           1.4          0.2  Iris-setosa\n",
              "1           4.9          3.0           1.4          0.2  Iris-setosa\n",
              "2           4.7          3.2           1.3          0.2  Iris-setosa\n",
              "3           4.6          3.1           1.5          0.2  Iris-setosa\n",
              "4           5.0          3.6           1.4          0.2  Iris-setosa"
            ],
            "text/html": [
              "\n",
              "  <div id=\"df-9da05bd4-1e1d-4f00-9d2b-2d2543cff3b7\">\n",
              "    <div class=\"colab-df-container\">\n",
              "      <div>\n",
              "<style scoped>\n",
              "    .dataframe tbody tr th:only-of-type {\n",
              "        vertical-align: middle;\n",
              "    }\n",
              "\n",
              "    .dataframe tbody tr th {\n",
              "        vertical-align: top;\n",
              "    }\n",
              "\n",
              "    .dataframe thead th {\n",
              "        text-align: right;\n",
              "    }\n",
              "</style>\n",
              "<table border=\"1\" class=\"dataframe\">\n",
              "  <thead>\n",
              "    <tr style=\"text-align: right;\">\n",
              "      <th></th>\n",
              "      <th>sepal_length</th>\n",
              "      <th>sepal_width</th>\n",
              "      <th>petal_length</th>\n",
              "      <th>petal_width</th>\n",
              "      <th>label</th>\n",
              "    </tr>\n",
              "  </thead>\n",
              "  <tbody>\n",
              "    <tr>\n",
              "      <th>0</th>\n",
              "      <td>5.1</td>\n",
              "      <td>3.5</td>\n",
              "      <td>1.4</td>\n",
              "      <td>0.2</td>\n",
              "      <td>Iris-setosa</td>\n",
              "    </tr>\n",
              "    <tr>\n",
              "      <th>1</th>\n",
              "      <td>4.9</td>\n",
              "      <td>3.0</td>\n",
              "      <td>1.4</td>\n",
              "      <td>0.2</td>\n",
              "      <td>Iris-setosa</td>\n",
              "    </tr>\n",
              "    <tr>\n",
              "      <th>2</th>\n",
              "      <td>4.7</td>\n",
              "      <td>3.2</td>\n",
              "      <td>1.3</td>\n",
              "      <td>0.2</td>\n",
              "      <td>Iris-setosa</td>\n",
              "    </tr>\n",
              "    <tr>\n",
              "      <th>3</th>\n",
              "      <td>4.6</td>\n",
              "      <td>3.1</td>\n",
              "      <td>1.5</td>\n",
              "      <td>0.2</td>\n",
              "      <td>Iris-setosa</td>\n",
              "    </tr>\n",
              "    <tr>\n",
              "      <th>4</th>\n",
              "      <td>5.0</td>\n",
              "      <td>3.6</td>\n",
              "      <td>1.4</td>\n",
              "      <td>0.2</td>\n",
              "      <td>Iris-setosa</td>\n",
              "    </tr>\n",
              "  </tbody>\n",
              "</table>\n",
              "</div>\n",
              "      <button class=\"colab-df-convert\" onclick=\"convertToInteractive('df-9da05bd4-1e1d-4f00-9d2b-2d2543cff3b7')\"\n",
              "              title=\"Convert this dataframe to an interactive table.\"\n",
              "              style=\"display:none;\">\n",
              "        \n",
              "  <svg xmlns=\"http://www.w3.org/2000/svg\" height=\"24px\"viewBox=\"0 0 24 24\"\n",
              "       width=\"24px\">\n",
              "    <path d=\"M0 0h24v24H0V0z\" fill=\"none\"/>\n",
              "    <path d=\"M18.56 5.44l.94 2.06.94-2.06 2.06-.94-2.06-.94-.94-2.06-.94 2.06-2.06.94zm-11 1L8.5 8.5l.94-2.06 2.06-.94-2.06-.94L8.5 2.5l-.94 2.06-2.06.94zm10 10l.94 2.06.94-2.06 2.06-.94-2.06-.94-.94-2.06-.94 2.06-2.06.94z\"/><path d=\"M17.41 7.96l-1.37-1.37c-.4-.4-.92-.59-1.43-.59-.52 0-1.04.2-1.43.59L10.3 9.45l-7.72 7.72c-.78.78-.78 2.05 0 2.83L4 21.41c.39.39.9.59 1.41.59.51 0 1.02-.2 1.41-.59l7.78-7.78 2.81-2.81c.8-.78.8-2.07 0-2.86zM5.41 20L4 18.59l7.72-7.72 1.47 1.35L5.41 20z\"/>\n",
              "  </svg>\n",
              "      </button>\n",
              "      \n",
              "  <style>\n",
              "    .colab-df-container {\n",
              "      display:flex;\n",
              "      flex-wrap:wrap;\n",
              "      gap: 12px;\n",
              "    }\n",
              "\n",
              "    .colab-df-convert {\n",
              "      background-color: #E8F0FE;\n",
              "      border: none;\n",
              "      border-radius: 50%;\n",
              "      cursor: pointer;\n",
              "      display: none;\n",
              "      fill: #1967D2;\n",
              "      height: 32px;\n",
              "      padding: 0 0 0 0;\n",
              "      width: 32px;\n",
              "    }\n",
              "\n",
              "    .colab-df-convert:hover {\n",
              "      background-color: #E2EBFA;\n",
              "      box-shadow: 0px 1px 2px rgba(60, 64, 67, 0.3), 0px 1px 3px 1px rgba(60, 64, 67, 0.15);\n",
              "      fill: #174EA6;\n",
              "    }\n",
              "\n",
              "    [theme=dark] .colab-df-convert {\n",
              "      background-color: #3B4455;\n",
              "      fill: #D2E3FC;\n",
              "    }\n",
              "\n",
              "    [theme=dark] .colab-df-convert:hover {\n",
              "      background-color: #434B5C;\n",
              "      box-shadow: 0px 1px 3px 1px rgba(0, 0, 0, 0.15);\n",
              "      filter: drop-shadow(0px 1px 2px rgba(0, 0, 0, 0.3));\n",
              "      fill: #FFFFFF;\n",
              "    }\n",
              "  </style>\n",
              "\n",
              "      <script>\n",
              "        const buttonEl =\n",
              "          document.querySelector('#df-9da05bd4-1e1d-4f00-9d2b-2d2543cff3b7 button.colab-df-convert');\n",
              "        buttonEl.style.display =\n",
              "          google.colab.kernel.accessAllowed ? 'block' : 'none';\n",
              "\n",
              "        async function convertToInteractive(key) {\n",
              "          const element = document.querySelector('#df-9da05bd4-1e1d-4f00-9d2b-2d2543cff3b7');\n",
              "          const dataTable =\n",
              "            await google.colab.kernel.invokeFunction('convertToInteractive',\n",
              "                                                     [key], {});\n",
              "          if (!dataTable) return;\n",
              "\n",
              "          const docLinkHtml = 'Like what you see? Visit the ' +\n",
              "            '<a target=\"_blank\" href=https://colab.research.google.com/notebooks/data_table.ipynb>data table notebook</a>'\n",
              "            + ' to learn more about interactive tables.';\n",
              "          element.innerHTML = '';\n",
              "          dataTable['output_type'] = 'display_data';\n",
              "          await google.colab.output.renderOutput(dataTable, element);\n",
              "          const docLink = document.createElement('div');\n",
              "          docLink.innerHTML = docLinkHtml;\n",
              "          element.appendChild(docLink);\n",
              "        }\n",
              "      </script>\n",
              "    </div>\n",
              "  </div>\n",
              "  "
            ]
          },
          "metadata": {},
          "execution_count": 5
        }
      ],
      "source": [
        "df.head()"
      ]
    },
    {
      "cell_type": "code",
      "execution_count": null,
      "id": "18402f32",
      "metadata": {
        "id": "18402f32"
      },
      "outputs": [],
      "source": [
        "random.seed(0)\n",
        "train_data, test_data = train_test_split(df, test_size=20)"
      ]
    },
    {
      "cell_type": "code",
      "execution_count": null,
      "id": "c35884a3",
      "metadata": {
        "colab": {
          "base_uri": "https://localhost:8080/"
        },
        "id": "c35884a3",
        "outputId": "c6e883da-73c9-4dab-ea47-a5cae31845de"
      },
      "outputs": [
        {
          "output_type": "execute_result",
          "data": {
            "text/plain": [
              "array([[5.1, 3.5, 1.4, 0.2, 'Iris-setosa'],\n",
              "       [4.9, 3.0, 1.4, 0.2, 'Iris-setosa'],\n",
              "       [4.7, 3.2, 1.3, 0.2, 'Iris-setosa'],\n",
              "       [4.6, 3.1, 1.5, 0.2, 'Iris-setosa'],\n",
              "       [5.0, 3.6, 1.4, 0.2, 'Iris-setosa']], dtype=object)"
            ]
          },
          "metadata": {},
          "execution_count": 7
        }
      ],
      "source": [
        "data = train_data.values\n",
        "data[:5]"
      ]
    },
    {
      "cell_type": "markdown",
      "id": "cbefb58a",
      "metadata": {
        "id": "cbefb58a"
      },
      "source": [
        "Note: Example Representation of Decision Tree:  \n",
        "example_tree = {\"petal_width <= 0.8\": [\"Iris-setosa\", \n",
        "                                      {\"petal_width <= 1.65\": [{\"petal_length <= 4.9\": [\"Iris-versicolor\", \n",
        "                                                                                        \"Iris-virginica\"]}, \n",
        "                                                                \"Iris-virginica\"]}]}"
      ]
    },
    {
      "cell_type": "code",
      "execution_count": null,
      "id": "b64abe0e",
      "metadata": {
        "colab": {
          "base_uri": "https://localhost:8080/"
        },
        "id": "b64abe0e",
        "outputId": "94776ae4-d562-47c6-c59a-d734518b8f52"
      },
      "outputs": [
        {
          "output_type": "stream",
          "name": "stdout",
          "text": [
            "{'Sex = male': [{'Fare <= 9.4833': [0, {'Age <= 6.0': [1, 0]}]},\n",
            "                {'Pclass = 3': [{'Fare <= 24.15': [1, 0]}, 1]}]}\n"
          ]
        }
      ],
      "source": [
        "# Run the Decision Tree classifier on Training data\n",
        "\n",
        "tree = decision_tree_algorithm(train_data, max_depth=3)\n",
        "pprint(tree)"
      ]
    },
    {
      "cell_type": "code",
      "execution_count": null,
      "id": "deb7af13",
      "metadata": {
        "colab": {
          "base_uri": "https://localhost:8080/"
        },
        "id": "deb7af13",
        "outputId": "1b3f8512-f94d-4feb-d8c2-fe5062d70b0e"
      },
      "outputs": [
        {
          "output_type": "stream",
          "name": "stdout",
          "text": [
            "Test accuracy for Iris data is: 0.95\n"
          ]
        }
      ],
      "source": [
        "# Test Accuracy\n",
        "\n",
        "accuracy = calculate_accuracy(test_data, tree)\n",
        "print (\"Test accuracy for Iris data is: \" + str(accuracy))"
      ]
    },
    {
      "cell_type": "code",
      "execution_count": null,
      "id": "02a2280f",
      "metadata": {
        "id": "02a2280f"
      },
      "outputs": [],
      "source": [
        "# Section 2: Train Decision Tree on Titanic data\n",
        "\n",
        "df = pd.read_csv(\"Titanic.csv\")\n",
        "df[\"label\"] = df.Survived\n",
        "df = df.drop([\"PassengerId\", \"Survived\", \"Name\", \"Ticket\", \"Cabin\"], axis=1)\n",
        "\n",
        "# handling missing values\n",
        "median_age = df.Age.median()\n",
        "mode_embarked = df.Embarked.mode()[0]\n",
        "\n",
        "df = df.fillna({\"Age\": median_age, \"Embarked\": mode_embarked})"
      ]
    },
    {
      "cell_type": "code",
      "execution_count": null,
      "id": "8991f1b2",
      "metadata": {
        "colab": {
          "base_uri": "https://localhost:8080/"
        },
        "id": "8991f1b2",
        "outputId": "9677d242-bfd7-4d15-f48d-1b30d74975fe"
      },
      "outputs": [
        {
          "output_type": "stream",
          "name": "stdout",
          "text": [
            "Test accuracy for Titanic data is: 0.7808988764044944\n"
          ]
        }
      ],
      "source": [
        "random.seed(0)\n",
        "\n",
        "train_data, test_data = train_test_split(df, 0.2)\n",
        "tree = decision_tree_algorithm(train_data, max_depth=10)\n",
        "accuracy = calculate_accuracy(test_data, tree)\n",
        "\n",
        "accuracy = calculate_accuracy(test_data, tree)\n",
        "print (\"Test accuracy for Titanic data is: \" + str(accuracy))"
      ]
    },
    {
      "cell_type": "code",
      "execution_count": null,
      "id": "6a3d536f",
      "metadata": {
        "id": "6a3d536f"
      },
      "outputs": [],
      "source": [
        "# Section 3: Prune Tree\n",
        "\n",
        "'''\n",
        "This function split the \"data\" into two parts according to the \"criterion\",\n",
        "where \"criterion\" consists of feature_name, comparison_operator, and the value for splitting,\n",
        "and \"data\" is a dataframe object that contains all the data points at this given node of the tree.\n",
        "'''\n",
        "def split_data(data, criterion):\n",
        "    feature, comparison_operator, value = criterion.split()\n",
        "    \n",
        "    # continuous feature\n",
        "    if comparison_operator == \"<=\":\n",
        "        left_data = data[data[feature] <= float(value)]\n",
        "        right_data = data[data[feature] >  float(value)]\n",
        "        \n",
        "    # categorical feature\n",
        "    else:\n",
        "        left_data = data[data[feature].astype(str) == value]\n",
        "        right_data  = data[data[feature].astype(str) != value]\n",
        "    \n",
        "    # Return the two partitions of the data after splitting\n",
        "    return left_data, right_data"
      ]
    },
    {
      "cell_type": "code",
      "execution_count": null,
      "id": "1b971c26",
      "metadata": {
        "id": "1b971c26"
      },
      "outputs": [],
      "source": [
        "'''\n",
        "This function returns the majority label value of data (if classification) or mean label value of data (if regression)\n",
        "'''\n",
        "def get_majority_or_mean_label(data, ml_task=\"classification\"):\n",
        "    # If task is regression, return the mean value of all the labels\n",
        "    if ml_task == \"regression\":\n",
        "        return data.label.mean()\n",
        "    \n",
        "    # If classification, return the majority class label\n",
        "    else:\n",
        "        return data.label.value_counts().index[0]"
      ]
    },
    {
      "cell_type": "code",
      "execution_count": null,
      "id": "5fa66143",
      "metadata": {
        "id": "5fa66143"
      },
      "outputs": [],
      "source": [
        "'''\n",
        "This function takes data and a tree object (string if the tree is leaf, or dict object if it is not leaf),\n",
        "makes prediction on the data using the given tree and calculates the error\n",
        "Input:\n",
        "    node: a dataframe object that include all the data points in that given node of the tree\n",
        "    tree: a string/float value (if the tree is a leaf) or a dictionary object(if it is not a leaf) built recursively \n",
        "         in the following format {criterion : [left_subTree, right_subTree]}, where left_subTree and \n",
        "         right_subTree can be either a string/float (if it is leaf) or a dictionary (if it is not a leaf).\n",
        "         To see an example of what the tree object looks like, take a look at the output of one of the cells above. \n",
        "'''\n",
        "def calculate_error(data, tree, ml_task=\"classification\"):\n",
        "    prediction_labels = make_predictions(data, tree)\n",
        "    actual_labels = data.label\n",
        "    \n",
        "    if ml_task == \"regression\":\n",
        "        # mean squared error\n",
        "        return ((prediction_labels - actual_labels) **2).mean()\n",
        "    else:\n",
        "        # number of errors\n",
        "        return sum(prediction_labels != actual_labels)"
      ]
    },
    {
      "cell_type": "code",
      "execution_count": null,
      "id": "7732c0eb",
      "metadata": {
        "id": "7732c0eb"
      },
      "outputs": [],
      "source": [
        "'''\n",
        "This is a helper function that may be invoked in the prune_algorithm() to decide whether to prune the tree or not.\n",
        "This function takes a tree object, training_data, validation_data as the input.\n",
        "The intuition behind this function is that it checks whether predicting with the given tree produces a better outcome than simply \n",
        "getting the majority/mean label from the training data. The way we check this is to use a validation dataset. We first \n",
        "compute the error of making prediction on the validation data using just the majority/mean label of the training data. \n",
        "We then compute the error of making prediction on the validation data using the tree. If the former is better \n",
        "than the latter, we discard the tree and simply return the majority class label (i.e. we prune the tree). Otherwise, \n",
        "we keep the original tree and return it.\n",
        "'''\n",
        "def prune_tree_helper(tree, data_train, data_val, ml_task=\"classification\"):\n",
        "    \n",
        "    majority_label = get_majority_or_mean_label(data_train, ml_task)\n",
        "    errors_using_majority_label = calculate_error(data_val, majority_label, ml_task)\n",
        "    \n",
        "    errors_using_tree = calculate_error(data_val, tree, ml_task)\n",
        "\n",
        "    if errors_using_majority_label <= errors_using_tree:\n",
        "        return majority_label\n",
        "    else:\n",
        "        return tree"
      ]
    },
    {
      "cell_type": "code",
      "execution_count": null,
      "id": "789f7329",
      "metadata": {
        "id": "789f7329"
      },
      "outputs": [],
      "source": [
        "'''\n",
        "TODO: Complete the implementation of this function\n",
        "\n",
        "This function takes a given tree, training data, and validation data, and prune the tree based on the \n",
        "prediction performance on the validation data at each node of the tree. This function will be implemented\n",
        "recursively.\n",
        "\n",
        "Input: \n",
        "    cur_tree: a dict object (if the tree is not a leaf), or a string/float value (if the tree is a leaf)\n",
        "    data_train: a dataframe object represents the training data at this given node of the tree\n",
        "    data_val: a dataframe object represents the validation data at this given node of the tree\n",
        "    ml_task: a string that is either \"regression\" or \"classification\"\n",
        "Return:\n",
        "    a tree that is pruned (a string/float value if the tree is a single leaf, or a dict object if\n",
        "    the tree has branches)\n",
        "'''\n",
        "\n",
        "def prune_algorithm(cur_tree, data_train, data_val, ml_task=\"classification\"):\n",
        "    \n",
        "    if not isinstance(cur_tree, dict):\n",
        "        ################################################################\n",
        "        # Base case: if tree is a single leaf, just return the tree\n",
        "        # TODO: ~1 line of code expected\n",
        "        #\n",
        "        ################################################################\n",
        "        return cur_tree\n",
        "        \n",
        "        \n",
        "        \n",
        "    else:    \n",
        "        criterion = list(cur_tree.keys())[0]\n",
        "        left_tree, right_tree = cur_tree[criterion]\n",
        "        data_train_left,data_train_right=split_data(data_train,criterion)\n",
        "        data_val_left,data_val_right=split_data(data_val,criterion)\n",
        "        pruned_left_tree=prune_algorithm(left_tree,data_train_left,data_val_left,ml_task)\n",
        "        pruned_right_tree=prune_algorithm(right_tree,data_train_right,data_val_right,ml_task)\n",
        "        cur_tree = {criterion: [pruned_left_tree, pruned_right_tree]}\n",
        "        pruned_tree=prune_tree_helper(cur_tree,data_train,data_val,ml_task)\n",
        "        return pruned_tree\n",
        "\n",
        "        ################################################################\n",
        "        # Recursive case: if tree has branches, do the following steps\n",
        "        # 1. split data_train into two parts \"data_train_left\" and \"data_train_right\" based on the \"criterion\" \n",
        "        #    (hint: use split_data method)\n",
        "        # 2. split data_val into two parts \"data_val_left\" and \"data_val_right\" based on the \"criterion\" \n",
        "        #    (hint: use split_data method)\n",
        "        # 3. recursively call prune_algorithm on left_tree, data_train_left, data_val_left to get the pruned left tree\n",
        "        # 4. recursively call prune_algorithm on right_tree, data_train_right, data_val_right to get the pruned right tree\n",
        "        # 5. Update the cur_tree as cur_tree = {criterion: [pruned_left_tree, pruned_right_tree]}\n",
        "        # 6. Prune the cur_tree that is updated in step 5 and return the pruned tree (if the tree doesn't need to be \n",
        "        #    pruned, just return cur_tree.(hint: you may use prune_tree_helper to decide whether to prune a tree or not)\n",
        "        # TODO: ~6 line of code expected\n",
        "        #\n",
        "        ################################################################\n",
        "        \n",
        "        \n",
        "        \n"
      ]
    },
    {
      "cell_type": "code",
      "source": [
        "prune_algorithm(tree,train_data,test_data)"
      ],
      "metadata": {
        "colab": {
          "base_uri": "https://localhost:8080/"
        },
        "id": "o36OEud2DnuC",
        "outputId": "1b226521-c7b5-4268-8868-cf1fd99e61b6"
      },
      "id": "o36OEud2DnuC",
      "execution_count": null,
      "outputs": [
        {
          "output_type": "execute_result",
          "data": {
            "text/plain": [
              "{'Sex = male': [{'Fare <= 9.4833': [0,\n",
              "    {'Age <= 6.0': [{'Pclass = 3': [0, 1]},\n",
              "      {'Pclass = 1': [{'Age <= 52.0': [{'Fare <= 30.5': [{'Fare <= 26.0': [0,\n",
              "              {'Fare <= 29.7': [{'Fare <= 26.55': [1, 0]}, 1]}]},\n",
              "            0]},\n",
              "          0]},\n",
              "        0]}]}]},\n",
              "  {'Pclass = 3': [{'Fare <= 24.15': [{'Age <= 36.0': [{'Embarked = S': [{'Age <= 31.0': [{'Fare <= 16.7': [{'Fare <= 10.5167': [0,\n",
              "                1]},\n",
              "              0]},\n",
              "            1]},\n",
              "          1]},\n",
              "        0]},\n",
              "      0]},\n",
              "    1]}]}"
            ]
          },
          "metadata": {},
          "execution_count": 55
        }
      ]
    },
    {
      "cell_type": "code",
      "execution_count": null,
      "id": "4819f499",
      "metadata": {
        "id": "4819f499"
      },
      "outputs": [],
      "source": [
        "'''\n",
        "After you implemented prune_algorithm function, run the following cells to compare the test\n",
        "accuracy of pre-pruned tree and post-pruned tree on TiTanic Dataset. You will get a plot that \n",
        "compares the two. No modification of code is needed.\n",
        "'''\n",
        "\n",
        "# Load Titanic Data\n",
        "\n",
        "df = pd.read_csv(\"Titanic.csv\")\n",
        "df[\"label\"] = df.Survived\n",
        "df = df.drop([\"PassengerId\", \"Survived\", \"Name\", \"Ticket\", \"Cabin\"], axis=1)\n",
        "\n",
        "# handling missing values\n",
        "median_age = df.Age.median()\n",
        "mode_embarked = df.Embarked.mode()[0]\n",
        "\n",
        "df = df.fillna({\"Age\": median_age, \"Embarked\": mode_embarked})"
      ]
    },
    {
      "cell_type": "code",
      "execution_count": null,
      "id": "82fefb27",
      "metadata": {
        "id": "82fefb27"
      },
      "outputs": [],
      "source": [
        "# Compare test accuracy of Decision Tree before and after pruning\n",
        "random.seed(1)\n",
        "metrics = {\"max_depth\": [], \"acc_tree\": [], \"acc_tree_pruned\": []}\n",
        "for n in range(10, 26):\n",
        "    df_train, df_test = train_test_split(df, test_size=0.15)\n",
        "    df_train, df_val = train_test_split(df_train, test_size=0.15)\n",
        "\n",
        "    tree = decision_tree_algorithm(df_train, ml_task=\"classification\", max_depth=n)\n",
        "    tree_pruned = prune_algorithm(tree, df_train, df_val, ml_task=\"classification\")\n",
        "    \n",
        "    metrics[\"max_depth\"].append(n)\n",
        "    metrics[\"acc_tree\"].append(calculate_accuracy(df_test, tree))\n",
        "    metrics[\"acc_tree_pruned\"].append(calculate_accuracy(df_test, tree_pruned))\n",
        "    \n",
        "df_metrics = pd.DataFrame(metrics)\n",
        "df_metrics = df_metrics.set_index(\"max_depth\")"
      ]
    },
    {
      "cell_type": "code",
      "execution_count": null,
      "id": "d5e08dc0",
      "metadata": {
        "colab": {
          "base_uri": "https://localhost:8080/",
          "height": 353
        },
        "id": "d5e08dc0",
        "outputId": "4dcfb458-0b26-4f67-a3d9-b8ec892101d0"
      },
      "outputs": [
        {
          "output_type": "execute_result",
          "data": {
            "text/plain": [
              "<AxesSubplot:xlabel='max_depth'>"
            ]
          },
          "metadata": {},
          "execution_count": 61
        },
        {
          "output_type": "display_data",
          "data": {
            "text/plain": [
              "<Figure size 864x360 with 1 Axes>"
            ],
            "image/png": "[encoded data removed]"
          },
          "metadata": {}
        }
      ],
      "source": [
        "# Plot\n",
        "df_metrics.plot(figsize=(12, 5), marker=\"o\")"
      ]
    },
    {
      "cell_type": "code",
      "source": [],
      "metadata": {
        "id": "x0fzwxq_Eilk"
      },
      "id": "x0fzwxq_Eilk",
      "execution_count": null,
      "outputs": []
    },
    {
      "cell_type": "markdown",
      "source": [
        "The accuracy of the model has increased for almost all depths after pruning which indicates that there were some extra levels in the decision tree which were adding more losses and it was a better option to prune the tree at those points and make it a leaf node. This is evident because the pruning strategy at every node is that if the accuracy by predicting the maximum frequency label according to the training data for that node is higher than the accuracy computed by using the entire tree, then it is a better option to prune the tree and just use the max frequency label as the leaf node.\n",
        "\n",
        "At depth 10, the pruned and the unpruned model give same performance which indicates that there are no extra levels in the tree. However, when the levels are increased, there are only two values of depths at which the accuracy of the pruned model is worse, these depths are 13,16. Apart from these two values, the accuracy of pruned model is always better. After depth 16, the pruned model is consistently better. I think that after a certain depth it is not very helpful to further increase the depth of the decision tree, I think by increasing the depth we might be overfitting on the training data, hence the model performs poorly on the validation. Increasing the depth further will lead to increased computation costs without benefit on accuracy. The accuracy for both models is highest at depth 18, also after depth 18, there seems to be a correlation between the outputs of the pruned and unpruned model i.e both are increasing/decreasing together, but before depth 18, it is not the case. The pruning criteria ensures that we are not taking a hit on the accuracy due to pruning.\n",
        "\n",
        "I think before 10 depths, the pruned model should mostly perform worse as I believe there should be a threshold number of depths which are needed for the model to perform well, and only after that pruning should make sense. To check my hypothesis, i ran the below experiment by varying depths from 1-26, the results in the 1-9 section indicate that mostly the unpruned model is better even though the pruned model gives higher accuracy sometimes, but the unpruned model gives better accuracy more number of times."
      ],
      "metadata": {
        "id": "awCNV7tMSTcR"
      },
      "id": "awCNV7tMSTcR"
    },
    {
      "cell_type": "code",
      "source": [
        "# Compare test accuracy of Decision Tree before and after pruning\n",
        "random.seed(1)\n",
        "metrics = {\"max_depth\": [], \"acc_tree\": [], \"acc_tree_pruned\": []}\n",
        "for n in range(1, 26):\n",
        "    df_train, df_test = train_test_split(df, test_size=0.15)\n",
        "    df_train, df_val = train_test_split(df_train, test_size=0.15)\n",
        "\n",
        "    tree = decision_tree_algorithm(df_train, ml_task=\"classification\", max_depth=n)\n",
        "    tree_pruned = prune_algorithm(tree, df_train, df_val, ml_task=\"classification\")\n",
        "    \n",
        "    metrics[\"max_depth\"].append(n)\n",
        "    metrics[\"acc_tree\"].append(calculate_accuracy(df_test, tree))\n",
        "    metrics[\"acc_tree_pruned\"].append(calculate_accuracy(df_test, tree_pruned))\n",
        "    \n",
        "df_metrics = pd.DataFrame(metrics)\n",
        "df_metrics = df_metrics.set_index(\"max_depth\")"
      ],
      "metadata": {
        "id": "MhjxxIzFYpYm"
      },
      "id": "MhjxxIzFYpYm",
      "execution_count": null,
      "outputs": []
    },
    {
      "cell_type": "code",
      "source": [
        "# Plot\n",
        "df_metrics.plot(figsize=(12, 5), marker=\"o\")"
      ],
      "metadata": {
        "colab": {
          "base_uri": "https://localhost:8080/",
          "height": 353
        },
        "id": "JQ-9mw-mYqr3",
        "outputId": "bb3e5e0f-33d5-474e-a60e-62d64af97f79"
      },
      "id": "JQ-9mw-mYqr3",
      "execution_count": null,
      "outputs": [
        {
          "output_type": "execute_result",
          "data": {
            "text/plain": [
              "<AxesSubplot:xlabel='max_depth'>"
            ]
          },
          "metadata": {},
          "execution_count": 65
        },
        {
          "output_type": "display_data",
          "data": {
            "text/plain": [
              "<Figure size 864x360 with 1 Axes>"
            ],
            "image/png": "[encoded data removed]"
          },
          "metadata": {}
        }
      ]
    },
    {
      "cell_type": "code",
      "source": [],
      "metadata": {
        "id": "5_ZU88MLZihu"
      },
      "id": "5_ZU88MLZihu",
      "execution_count": null,
      "outputs": []
    }
  ],
  "metadata": {
    "kernelspec": {
      "display_name": "Python 3",
      "language": "python",
      "name": "python3"
    },
    "language_info": {
      "codemirror_mode": {
        "name": "ipython",
        "version": 3
      },
      "file_extension": ".py",
      "mimetype": "text/x-python",
      "name": "python",
      "nbconvert_exporter": "python",
      "pygments_lexer": "ipython3",
      "version": "3.8.8"
    },
    "colab": {
      "provenance": [],
      "include_colab_link": true
    }
  },
  "nbformat": 4,
  "nbformat_minor": 5
}